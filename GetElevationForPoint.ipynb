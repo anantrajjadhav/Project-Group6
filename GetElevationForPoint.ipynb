{
  "nbformat": 4,
  "nbformat_minor": 0,
  "metadata": {
    "colab": {
      "provenance": [],
      "authorship_tag": "ABX9TyN+IfgxS4CXxw1Yre19cGmP",
      "include_colab_link": true
    },
    "kernelspec": {
      "name": "python3",
      "display_name": "Python 3"
    },
    "language_info": {
      "name": "python"
    }
  },
  "cells": [
    {
      "cell_type": "markdown",
      "metadata": {
        "id": "view-in-github",
        "colab_type": "text"
      },
      "source": [
        "<a href=\"https://colab.research.google.com/github/anantrajjadhav/Project-Group6/blob/main/GetElevationForPoint.ipynb\" target=\"_parent\"><img src=\"https://colab.research.google.com/assets/colab-badge.svg\" alt=\"Open In Colab\"/></a>"
      ]
    },
    {
      "cell_type": "code",
      "execution_count": null,
      "metadata": {
        "colab": {
          "base_uri": "https://localhost:8080/"
        },
        "id": "N8ICiqMUjaNB",
        "outputId": "f762bc68-d8d2-4cd6-9420-1c7db3e9bfe7"
      },
      "outputs": [
        {
          "output_type": "stream",
          "name": "stderr",
          "text": [
            "*** Earth Engine *** Share your feedback by taking our Annual Developer Satisfaction Survey: https://google.qualtrics.com/jfe/form/SV_0JLhFqfSY1uiEaW?source=Init\n"
          ]
        }
      ],
      "source": [
        "# Import required libraries\n",
        "import ee\n",
        "import pandas as pd\n",
        "\n",
        "# Authenticate and initialize Earth Engine\n",
        "ee.Authenticate()\n",
        "ee.Initialize(project='##########')\n",
        "\n"
      ]
    },
    {
      "cell_type": "code",
      "source": [
        "# Define the point geometry (replace longitude and latitude with your coordinates)\n",
        "longitude = 77  # Example longitude\n",
        "latitude = 20     # Example latitude\n",
        "point = ee.Geometry.Point([longitude, latitude])\n",
        "\n",
        "# Load the DEM dataset\n",
        "dem = ee.Image('USGS/SRTMGL1_003')  # SRTM DEM\n",
        "\n",
        "# Calculate terrain characteristics\n",
        "terrain = ee.Terrain.products(dem)\n",
        "elevation = dem.select('elevation')\n",
        "\n",
        "# Reduce region to get values at the point\n",
        "elevation_val = elevation.reduceRegion(\n",
        "    reducer=ee.Reducer.mode(),\n",
        "    geometry=point,\n",
        "    scale=30\n",
        ").get('elevation').getInfo()\n",
        "\n",
        "\n",
        "\n",
        "# Create a dictionary with the results\n",
        "data = {\n",
        "    'Longitude': [longitude],\n",
        "    'Latitude': [latitude],\n",
        "    'Elevation': [elevation_val]\n",
        "}\n",
        "\n",
        "# Convert to Pandas DataFrame\n",
        "df = pd.DataFrame(data)\n",
        "\n",
        "# Save to CSV\n",
        "csv_filename = 'terrain_characteristics.csv'\n",
        "df.to_csv(csv_filename, index=False)\n",
        "print(f\"CSV file saved: {csv_filename}\")\n"
      ],
      "metadata": {
        "colab": {
          "base_uri": "https://localhost:8080/"
        },
        "id": "exr--KqcjjOs",
        "outputId": "2631df3b-8512-4c8a-8047-741d390a39db"
      },
      "execution_count": null,
      "outputs": [
        {
          "output_type": "stream",
          "name": "stdout",
          "text": [
            "CSV file saved: terrain_characteristics.csv\n"
          ]
        }
      ]
    },
    {
      "cell_type": "code",
      "source": [],
      "metadata": {
        "id": "TnfwCq28ltlm"
      },
      "execution_count": null,
      "outputs": []
    }
  ]
}